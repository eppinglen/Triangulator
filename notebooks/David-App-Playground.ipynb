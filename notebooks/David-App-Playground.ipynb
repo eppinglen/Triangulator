{
 "cells": [
  {
   "cell_type": "markdown",
   "metadata": {
    "toc-hr-collapsed": false
   },
   "source": [
    "## SDS Demo App\n",
    "This app demos the result of the SDS team at the JPIAMR hackathon."
   ]
  },
  {
   "cell_type": "code",
   "execution_count": 1,
   "metadata": {},
   "outputs": [],
   "source": [
    "%load_ext autoreload\n",
    "#%load_ext line_profiler\n",
    "%autoreload 2\n",
    "import jupyterlab_dash\n",
    "import multiprocessing"
   ]
  },
  {
   "cell_type": "code",
   "execution_count": 2,
   "metadata": {},
   "outputs": [],
   "source": [
    "import pandas as pd\n",
    "import numpy as np\n",
    "import plotly.express as px\n",
    "import plotly.graph_objects as go\n",
    "import random\n",
    "import string"
   ]
  },
  {
   "cell_type": "code",
   "execution_count": 3,
   "metadata": {},
   "outputs": [],
   "source": [
    "def randomString(stringLength=5):\n",
    "    \"\"\"Generate a random string of fixed length\"\"\"\n",
    "    letters = string.ascii_lowercase\n",
    "    return \"\".join(random.choice(letters) for i in range(stringLength))\n",
    "\n",
    "\n",
    "def calculate_clinician_behavior(\n",
    "    clin_prescriptions=None, recommendations=None, diagnosis=\"UTI\"\n",
    "):\n",
    "    \"\"\"Calculate the clinician scores for the app\"\"\"\n",
    "    second_perc = np.random.uniform(0, 0.5, size=100)\n",
    "    third_perc = 0.5 - second_perc\n",
    "    doctor_labels = np.array([randomString(5) for i in range(100)])\n",
    "    df = pd.DataFrame(\n",
    "        data={\n",
    "            \"2nd level antibiotics\": second_perc,\n",
    "            \"3rd level antibiotics\": third_perc,\n",
    "            \"doctor\": doctor_labels,\n",
    "        }\n",
    "    )\n",
    "    df[\"class\"] = \"Average\"\n",
    "    df.iloc[30, 3] = \"You\"\n",
    "    return df"
   ]
  },
  {
   "cell_type": "code",
   "execution_count": 4,
   "metadata": {},
   "outputs": [],
   "source": [
    "bars_a = calculate_clinician_behavior().groupby(\"class\").mean().reset_index().melt(\"class\")\n",
    "bars_b = calculate_clinician_behavior().groupby(\"class\").mean().reset_index().melt(\"class\")\n",
    "data={'Acute Cystitis Females >12 years old,Uncomplicated': bars_a, 'Pneumonia- Adult: Community acquired, mild to moderate, Outpatient without comorbidity/modifying factors': bars_b}"
   ]
  },
  {
   "cell_type": "code",
   "execution_count": 5,
   "metadata": {},
   "outputs": [],
   "source": [
    "def pres_behavior_chart(bars):\n",
    "    fig = px.bar(\n",
    "        bars,\n",
    "        x=\"variable\",\n",
    "        y=\"value\",\n",
    "        color=\"class\",\n",
    "        barmode=\"group\",\n",
    "    )\n",
    "    fig.layout.xaxis.title = \"Prescriptions for female patients between 20-30 years for the same diagnosis\"\n",
    "    fig.layout.yaxis.title = \"Percentage of prescriptions for the given class\"\n",
    "    return fig"
   ]
  },
  {
   "cell_type": "code",
   "execution_count": 8,
   "metadata": {},
   "outputs": [],
   "source": [
    "if viewer:\n",
    "    viewer.terminate()\n",
    "    del viewer\n",
    "    del app"
   ]
  },
  {
   "cell_type": "code",
   "execution_count": 9,
   "metadata": {},
   "outputs": [],
   "source": [
    "viewer = jupyterlab_dash.AppViewer(port=8099)"
   ]
  },
  {
   "cell_type": "code",
   "execution_count": 10,
   "metadata": {},
   "outputs": [],
   "source": [
    "import dash\n",
    "import dash_core_components as dcc\n",
    "import dash_html_components as html\n",
    "from dash.dependencies import Input, Output, State\n",
    "\n",
    "external_stylesheets = ['https://codepen.io/chriddyp/pen/bWLwgP.css']\n",
    "#diagnosis = ['Acute Cystitis Females >12 years old,Uncomplicated', 'Pneumonia- Adult: Community acquired, mild to moderate, Outpatient without comorbidity/modifying factors']\n",
    "diagnosis_treatments = {'Acute Cystitis Females >12 years old,Uncomplicated': ['1st level - TMP/SMX 1 DS tab po bid  for 3 days', '1st level - Trimethoprim 200mg once po daily for 3 days', '1st level - Macrobid 100 mg po bid for 5 days', '2nd level - Amoxicillin 500mg po TID for 7 days', '2nd level - Norfloxacin 400mg po bid for 3 days', '2nd level - Ciprofloxacin 250mg po bid for 3 days', '3rd level - Cephalexin 500mg po bid for 7 days', '3rd level - Levoquin 250mg po daily for 3 days'],\n",
    "                        'Pneumonia- Adult: Community acquired, mild to moderate, Outpatient without comorbidity/modifying factors': ['1st level - Amoxicillin 1g po tid for 7 days', '2nd level - Doxycycline 100mg po bid day 1 and then qd days 2-7', '2nd level - Azithromycin 250mg 2 tabs day 1 and then one tab days 2-5', '2nd level - Clarithromycin 500mg po once daily for 7 days', '3rd level - Levofloxacin 750mg po qd for 5 days', '3rd level - Moxifloxacin 400mg po once daily for 5 days']\n",
    "                       }\n",
    "\n",
    "\n",
    "\n",
    "app = dash.Dash(__name__, external_stylesheets=external_stylesheets)\n",
    "app.title = 'SDS Decision Helper'\n",
    "\n",
    "app.layout = html.Div(children=[\n",
    "    html.Div([\n",
    "        html.Div([\n",
    "            html.H4(\"Your diagnosis\"),\n",
    "            dcc.RadioItems(\n",
    "                id='diagnosis-options',\n",
    "                options=[{'label': i, 'value': i} for i in list(diagnosis_treatments.keys())],\n",
    "                value=list(diagnosis_treatments.keys())[0],\n",
    "                labelStyle={'display': 'inline-block'}\n",
    "            ),\n",
    "            html.Hr()],\n",
    "            className='six columns')],\n",
    "        className='row')\n",
    "    ,\n",
    "    html.Div([\n",
    "        html.Div([\n",
    "            html.H4(\"Your prescription behavior for 2nd and 3rd line antibiotics\"),\n",
    "            dcc.Graph(id='prescribing-graph')\n",
    "        ],\n",
    "            className='six columns'),\n",
    "        html.Div([\n",
    "            html.H4(\"Your treatment options\"),\n",
    "            html.Label(['Recommended antibiotics for your area',\n",
    "            dcc.Dropdown(id='dropdown-treatments'\n",
    "                        )]),\n",
    "            html.Hr(),\n",
    "            html.Button(id='submit-button', n_clicks=0, children='Generate prescription'),\n",
    "            html.Div(id='output-prescription', children=\"\"),\n",
    "            html.Hr(),\n",
    "            html.Button(id='submit-button-final', n_clicks=0, children='SEND prescription'),\n",
    "            html.Div(id='output-prescription-final', children=\"\")\n",
    "        ],\n",
    "            className='six columns')\n",
    "    ],\n",
    "        className='row')\n",
    "])\n",
    "\n",
    "\n",
    "@app.callback(Output('output-prescription', 'children'),\n",
    "              [Input('submit-button', 'n_clicks')],\n",
    "              [State('dropdown-treatments', 'value')])\n",
    "def send_prescription(n_clicks, prescription):\n",
    "    if n_clicks > 0:\n",
    "        return \"Prescription of {} for patient {}\".format(prescription.split('- ')[1], \"Christina Miller, female, 25 years\")\n",
    "\n",
    "    \n",
    "@app.callback(Output('output-prescription-final', 'children'),\n",
    "              [Input('submit-button-final', 'n_clicks')],\n",
    "              [State('output-prescription', 'children')])\n",
    "def send_prescription_final(n_clicks, prescription):\n",
    "    if n_clicks > 0:\n",
    "        return \"Sent prescription to pharmacy\"\n",
    "\n",
    "    \n",
    "@app.callback(\n",
    "    Output('dropdown-treatments', 'options'),\n",
    "    [Input('diagnosis-options', 'value')])\n",
    "def set_dropdown_treatments_1st(selected_diagnosis):\n",
    "    \n",
    "    return [{'label': i, 'value': i} for i in diagnosis_treatments[selected_diagnosis]]\n",
    "\n",
    "\n",
    "@app.callback(\n",
    "    Output('dropdown-treatments', 'value'),\n",
    "    [Input('diagnosis-options', 'value')])\n",
    "def set_dropdown_treatments(selected_diagnosis):\n",
    "    return diagnosis_treatments[selected_diagnosis][0]\n",
    "\n",
    "\n",
    "@app.callback(\n",
    "    Output('prescribing-graph', 'figure'),\n",
    "    [Input('diagnosis-options', 'value')])\n",
    "def plot_prescribing_behavior(diagnosis):\n",
    "    return pres_behavior_chart(data[diagnosis])\n",
    "\n",
    "\n",
    "\n",
    "viewer.show(app)"
   ]
  },
  {
   "cell_type": "code",
   "execution_count": null,
   "metadata": {},
   "outputs": [],
   "source": []
  }
 ],
 "metadata": {
  "kernelspec": {
   "display_name": "Python [conda env:Triangulator]",
   "language": "python",
   "name": "conda-env-Triangulator-py"
  },
  "kubeflow_notebook": {
   "docker_image": "",
   "experiment": {
    "id": "",
    "name": ""
   },
   "experiment_name": "",
   "pipeline_description": "",
   "pipeline_name": "",
   "volumes": []
  },
  "language_info": {
   "codemirror_mode": {
    "name": "ipython",
    "version": 3
   },
   "file_extension": ".py",
   "mimetype": "text/x-python",
   "name": "python",
   "nbconvert_exporter": "python",
   "pygments_lexer": "ipython3",
   "version": "3.8.0"
  }
 },
 "nbformat": 4,
 "nbformat_minor": 4
}
